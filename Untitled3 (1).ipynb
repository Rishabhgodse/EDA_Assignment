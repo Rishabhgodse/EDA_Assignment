{
  "nbformat": 4,
  "nbformat_minor": 0,
  "metadata": {
    "colab": {
      "provenance": []
    },
    "kernelspec": {
      "name": "python3",
      "display_name": "Python 3"
    },
    "language_info": {
      "name": "python"
    }
  },
  "cells": [
    {
      "cell_type": "code",
      "execution_count": null,
      "metadata": {
        "id": "coppfRWchkui"
      },
      "outputs": [],
      "source": [
        "# What is the range of selling prices in the dataset?"
      ]
    },
    {
      "cell_type": "markdown",
      "source": [
        "# Range of selling prices\n",
        "min_price = bike_details_data['selling_price'].min()\n",
        "max_price = bike_details_data['selling_price'].max()\n",
        "price_range = max_price - min_price\n",
        "\n",
        "min_price, max_price, price_range\n"
      ],
      "metadata": {
        "id": "EYJ3Nb7OqJFz"
      }
    },
    {
      "cell_type": "code",
      "source": [
        "# What is the median selling price for bikes in the dataset?"
      ],
      "metadata": {
        "id": "TJjgXjfhoLyv"
      },
      "execution_count": null,
      "outputs": []
    },
    {
      "cell_type": "markdown",
      "source": [
        "# Median selling price\n",
        "median_selling_price = bike_details_data['selling_price'].median()\n",
        "\n",
        "median_selling_price\n"
      ],
      "metadata": {
        "id": "OhQTgFawsm4a"
      }
    },
    {
      "cell_type": "code",
      "source": [
        "# What is the most common seller type?"
      ],
      "metadata": {
        "id": "C5ahbXL-oSzo"
      },
      "execution_count": null,
      "outputs": []
    },
    {
      "cell_type": "markdown",
      "source": [
        "# Most common seller type\n",
        "most_common_seller_type = bike_details_data['seller_type'].mode()[0]\n",
        "\n",
        "most_common_seller_type\n"
      ],
      "metadata": {
        "id": "tcGzHSTasnru"
      }
    },
    {
      "cell_type": "code",
      "source": [
        "# How many bikes have driven more than 50,000 kilometers?\n"
      ],
      "metadata": {
        "id": "0W-OGoIUodRB"
      },
      "execution_count": null,
      "outputs": []
    },
    {
      "cell_type": "markdown",
      "source": [
        "# Number of bikes driven more than 50,000 km\n",
        "bikes_above_50000_km = bike_details_data[bike_details_data['km_driven'] > 50000].shape[0]\n",
        "\n",
        "bikes_above_50000_km\n"
      ],
      "metadata": {
        "id": "sGhDglR8sojb"
      }
    },
    {
      "cell_type": "code",
      "source": [
        "# What is the average km_driven value for each ownership type?"
      ],
      "metadata": {
        "id": "gVe8SmyBpxCt"
      },
      "execution_count": null,
      "outputs": []
    },
    {
      "cell_type": "markdown",
      "source": [
        "# Average km_driven by ownership type\n",
        "avg_km_by_owner = bike_details_data.groupby('owner')['km_driven'].mean()\n",
        "\n",
        "avg_km_by_owner\n"
      ],
      "metadata": {
        "id": "zUukfoOlspP_"
      }
    },
    {
      "cell_type": "code",
      "source": [
        "# What proportion of bikes are from the year 2015 or older?"
      ],
      "metadata": {
        "id": "6Ahc46iqpxmS"
      },
      "execution_count": null,
      "outputs": []
    },
    {
      "cell_type": "markdown",
      "source": [
        "# Proportion of bikes from 2015 or older\n",
        "bikes_2015_or_older = bike_details_data[bike_details_data['year'] <= 2015].shape[0]\n",
        "total_bikes = bike_details_data.shape[0]\n",
        "proportion_2015_or_older = (bikes_2015_or_older / total_bikes) * 100\n",
        "\n",
        "proportion_2015_or_older\n"
      ],
      "metadata": {
        "id": "Rw8t8f4ksqO2"
      }
    },
    {
      "cell_type": "code",
      "source": [
        "# What is the trend of missing values across the dataset?"
      ],
      "metadata": {
        "id": "Pi4DLujppyH9"
      },
      "execution_count": null,
      "outputs": []
    },
    {
      "cell_type": "markdown",
      "source": [
        "# Trend of missing values\n",
        "missing_values = bike_details_data.isnull().sum()\n",
        "\n",
        "missing_values\n"
      ],
      "metadata": {
        "id": "dzaX2qsstI74"
      }
    },
    {
      "cell_type": "code",
      "source": [
        "# What is the highest ex_showroom_price recorded, and for which bike?"
      ],
      "metadata": {
        "id": "8sVFQpVmpyoQ"
      },
      "execution_count": null,
      "outputs": []
    },
    {
      "cell_type": "markdown",
      "source": [
        "# Highest ex_showroom_price and corresponding bike\n",
        "highest_ex_showroom_price = bike_details_data['ex_showroom_price'].max()\n",
        "bike_with_highest_ex_showroom_price = bike_details_data[bike_details_data['ex_showroom_price'] == highest_ex_showroom_price]['name'].values[0]\n",
        "\n",
        "highest_ex_showroom_price, bike_with_highest_ex_showroom_price\n"
      ],
      "metadata": {
        "id": "lGfbz0hwtJiS"
      }
    },
    {
      "cell_type": "code",
      "source": [
        "# What is the total number of bikes listed by each seller type?"
      ],
      "metadata": {
        "id": "nWfLYCk5qK3K"
      },
      "execution_count": null,
      "outputs": []
    },
    {
      "cell_type": "markdown",
      "source": [
        "# Total number of bikes listed by seller type\n",
        "bikes_by_seller_type = bike_details_data['seller_type'].value_counts()\n",
        "\n",
        "bikes_by_seller_type\n"
      ],
      "metadata": {
        "id": "Q6FS-4WRtKan"
      }
    },
    {
      "cell_type": "code",
      "source": [
        "# What is the relationship between selling_price and km_driven for first-owner bikes?"
      ],
      "metadata": {
        "id": "GzAz91U0qMgp"
      },
      "execution_count": null,
      "outputs": []
    },
    {
      "cell_type": "markdown",
      "source": [
        "import matplotlib.pyplot as plt\n",
        "\n",
        "# Scatter plot for first-owner bikes\n",
        "first_owner_bikes = bike_details_data[bike_details_data['owner'] == '1st owner']\n",
        "plt.scatter(first_owner_bikes['km_driven'], first_owner_bikes['selling_price'])\n",
        "plt.title('Relationship between Selling Price and Km Driven for First-owner Bikes')\n",
        "plt.xlabel('Km Driven')\n",
        "plt.ylabel('Selling Price')\n",
        "plt.show()\n"
      ],
      "metadata": {
        "id": "Qqb-Tq9dtK8o"
      }
    },
    {
      "cell_type": "code",
      "source": [
        "# Identify and remove outliers in the km_driven column using the IQR method?"
      ],
      "metadata": {
        "id": "4pZIIWYGqMR2"
      },
      "execution_count": null,
      "outputs": []
    },
    {
      "cell_type": "markdown",
      "source": [
        "# Remove outliers in km_driven using IQR method\n",
        "Q1 = bike_details_data['km_driven'].quantile(0.25)\n",
        "Q3 = bike_details_data['km_driven'].quantile(0.75)\n",
        "IQR = Q3 - Q1\n",
        "\n",
        "# Define outliers\n",
        "outliers_removed = bike_details_data[~((bike_details_data['km_driven'] < (Q1 - 1.5 * IQR)) | (bike_details_data['km_driven'] > (Q3 + 1.5 * IQR)))]\n",
        "\n",
        "outliers_removed.shape\n"
      ],
      "metadata": {
        "id": "JpIsKgJ0tLjf"
      }
    },
    {
      "cell_type": "code",
      "source": [
        "# Perform a bivariate analysis to visualize the relationship between year and selling_price."
      ],
      "metadata": {
        "id": "VINUNokwqMIc"
      },
      "execution_count": null,
      "outputs": []
    },
    {
      "cell_type": "markdown",
      "source": [
        "# Bivariate analysis between year and selling_price\n",
        "plt.scatter(bike_details_data['year'], bike_details_data['selling_price'])\n",
        "plt.title('Bivariate Analysis: Year vs Selling Price')\n",
        "plt.xlabel('Year')\n",
        "plt.ylabel('Selling Price')\n",
        "plt.show()\n"
      ],
      "metadata": {
        "id": "pciAaNvXtMSu"
      }
    },
    {
      "cell_type": "code",
      "source": [
        "# What is the average depreciation in selling price based on the bike's age (current year - manufacturing year)?"
      ],
      "metadata": {
        "id": "UMnSbRC2qL3k"
      },
      "execution_count": null,
      "outputs": []
    },
    {
      "cell_type": "markdown",
      "source": [
        "# Calculate depreciation based on bike age\n",
        "current_year = 2025  # Assuming current year is 2025\n",
        "bike_details_data['age'] = current_year - bike_details_data['year']\n",
        "bike_details_data['depreciation'] = (bike_details_data['selling_price'] - bike_details_data['ex_showroom_price']) / bike_details_data['age']\n",
        "\n",
        "average_depreciation = bike_details_data['depreciation'].mean()\n",
        "\n",
        "average_depreciation\n"
      ],
      "metadata": {
        "id": "eBaw-E5ktM46"
      }
    },
    {
      "cell_type": "code",
      "source": [
        "# Which bike names are priced significantly above the average price for their manufacturing year?"
      ],
      "metadata": {
        "id": "kQvRr5DdqLTV"
      },
      "execution_count": null,
      "outputs": []
    },
    {
      "cell_type": "markdown",
      "source": [
        "# Identify bikes priced significantly above the average price for their manufacturing year\n",
        "avg_price_by_year = bike_details_data.groupby('year')['selling_price'].mean()\n",
        "bikes_above_avg_price = bike_details_data[bike_details_data['selling_price'] > bike_details_data['year'].map(avg_price_by_year)]\n",
        "\n",
        "bikes_above_avg_price[['name', 'year', 'selling_price']]\n"
      ],
      "metadata": {
        "id": "t6e87Jy3tNiP"
      }
    },
    {
      "cell_type": "code",
      "source": [
        "# Develop a correlation matrix for numeric columns and visualize it using a heatmap."
      ],
      "metadata": {
        "id": "ygGQtnDfqoCG"
      },
      "execution_count": null,
      "outputs": []
    },
    {
      "cell_type": "markdown",
      "source": [
        "import seaborn as sns\n",
        "\n",
        "# Correlation matrix for numeric columns\n",
        "correlation_matrix = bike_details_data.corr()\n",
        "\n",
        "# Heatmap visualization\n",
        "plt.figure(figsize=(10,6))\n",
        "sns.heatmap(correlation_matrix, annot=True, cmap='coolwarm')\n",
        "plt.title('Correlation Matrix for Numeric Columns')\n",
        "plt.show()\n"
      ],
      "metadata": {
        "id": "CWWaa72FtOKf"
      }
    },
    {
      "cell_type": "code",
      "source": [
        "#                                                           EDA - 2  Car Sale Dataset"
      ],
      "metadata": {
        "id": "2tcbI_7at-mM"
      },
      "execution_count": null,
      "outputs": []
    },
    {
      "cell_type": "code",
      "source": [
        "# What is the average selling price of cars for each dealer, and how does it compare across different dealers?"
      ],
      "metadata": {
        "id": "izk4DeRyuJ9E"
      },
      "execution_count": null,
      "outputs": []
    },
    {
      "cell_type": "markdown",
      "source": [
        "To calculate the average selling price for each dealer, we group the dataset by dealer and calculate the mean of the selling_price column.\n",
        "# Average selling price for each dealer\n",
        "avg_selling_price_by_dealer = car_sale_data.groupby('dealer')['selling_price'].mean()\n",
        "\n",
        "avg_selling_price_by_dealer\n"
      ],
      "metadata": {
        "id": "JW1CKPD4U4JS"
      }
    },
    {
      "cell_type": "code",
      "source": [
        "# Which car brand (Company) has the highest variation in prices, and what does this tell us about the pricing trends?"
      ],
      "metadata": {
        "id": "zmFzPYp0TykE"
      },
      "execution_count": null,
      "outputs": []
    },
    {
      "cell_type": "markdown",
      "source": [
        "We calculate the standard deviation of prices for each car brand and identify the one with the highest variation.\n",
        "\n",
        "\n",
        "# Variation in prices by car brand (Company)\n",
        "price_variation_by_brand = car_sale_data.groupby('Company')['selling_price'].std().sort_values(ascending=False)\n",
        "highest_variation_brand = price_variation_by_brand.idxmax()\n",
        "\n",
        "highest_variation_brand, price_variation_by_brand.loc[highest_variation_brand]"
      ],
      "metadata": {
        "id": "9uVq7ONCU41i"
      }
    },
    {
      "cell_type": "code",
      "source": [
        "# What is the distribution of car prices for each transmission type, and how do the interquartile ranges compare?"
      ],
      "metadata": {
        "id": "ai3IPP9-TyhN"
      },
      "execution_count": null,
      "outputs": []
    },
    {
      "cell_type": "markdown",
      "source": [
        "We can use boxplots to visualize the distribution of prices for each transmission type and compare the interquartile ranges (IQR).\n",
        "\n",
        "\n",
        "import seaborn as sns\n",
        "import matplotlib.pyplot as plt\n",
        "\n",
        "# Boxplot for distribution of car prices by transmission type\n",
        "sns.boxplot(x='transmission', y='selling_price', data=car_sale_data)\n",
        "plt.title('Distribution of Car Prices by Transmission Type')\n",
        "plt.show()"
      ],
      "metadata": {
        "id": "hLObnqcsU6yT"
      }
    },
    {
      "cell_type": "code",
      "source": [
        "# What is the distribution of car prices across different regions?"
      ],
      "metadata": {
        "id": "3q5rMKIqTyeQ"
      },
      "execution_count": null,
      "outputs": []
    },
    {
      "cell_type": "markdown",
      "source": [
        "We can create histograms or boxplots to see the distribution of car prices across regions.\n",
        "\n",
        "# Distribution of car prices by region\n",
        "sns.boxplot(x='region', y='selling_price', data=car_sale_data)\n",
        "plt.title('Distribution of Car Prices by Region')\n",
        "plt.show()\n",
        "This allows us to see how prices vary across different regions and check for any pricing trends based on location."
      ],
      "metadata": {
        "id": "0E3yZQXAWmBX"
      }
    },
    {
      "cell_type": "code",
      "source": [
        "# What is the distribution of cars based on body styles?"
      ],
      "metadata": {
        "id": "qhes1OaDTya9"
      },
      "execution_count": null,
      "outputs": []
    },
    {
      "cell_type": "markdown",
      "source": [
        "We can count the occurrences of each body style and plot a bar chart to visualize the distribution.\n",
        "\n",
        "\n",
        "# Distribution of cars by body style\n",
        "body_style_distribution = car_sale_data['body_style'].value_counts()\n",
        "\n",
        "body_style_distribution.plot(kind='bar')\n",
        "plt.title('Distribution of Cars by Body Style')\n",
        "plt.xlabel('Body Style')\n",
        "plt.ylabel('Number of Cars')\n",
        "plt.show()\n",
        "\n",
        "This will give you insights into the most common car body styles in the dataset."
      ],
      "metadata": {
        "id": "PyBK0MnyWyOS"
      }
    },
    {
      "cell_type": "code",
      "source": [
        "# How does the average selling price of cars vary by customer gender and annual income?"
      ],
      "metadata": {
        "id": "fdYBgEdBTyYR"
      },
      "execution_count": null,
      "outputs": []
    },
    {
      "cell_type": "markdown",
      "source": [
        "We group the data by gender and annual_income, then calculate the average selling price for each group.\n",
        "\n",
        "\n",
        "# Average selling price by gender and annual income\n",
        "avg_price_by_gender_income = car_sale_data.groupby(['gender', 'annual_income'])['selling_price'].mean()\n",
        "\n",
        "avg_price_by_gender_income\n",
        "You can visualize this using a heatmap or a grouped bar chart."
      ],
      "metadata": {
        "id": "ONQwkFBUW7fA"
      }
    },
    {
      "cell_type": "code",
      "source": [
        "# What is the distribution of car prices by region, and how does the number of cars sold vary by region?"
      ],
      "metadata": {
        "id": "UAGjdW9DTyVg"
      },
      "execution_count": null,
      "outputs": []
    },
    {
      "cell_type": "markdown",
      "source": [
        "We can create a boxplot to visualize the price distribution and a bar chart to show the number of cars sold in each region.\n",
        "\n",
        "\n",
        "# Distribution of car prices by region\n",
        "sns.boxplot(x='region', y='selling_price', data=car_sale_data)\n",
        "plt.title('Car Price Distribution by Region')\n",
        "plt.show()\n",
        "\n",
        "# Number of cars sold by region\n",
        "cars_sold_by_region = car_sale_data['region'].value_counts()\n",
        "\n",
        "cars_sold_by_region.plot(kind='bar')\n",
        "plt.title('Number of Cars Sold by Region')\n",
        "plt.xlabel('Region')\n",
        "plt.ylabel('Number of Cars')\n",
        "plt.show()"
      ],
      "metadata": {
        "id": "kQqbLR3GXC37"
      }
    },
    {
      "cell_type": "code",
      "source": [
        "# How does the average car price differ between cars with different engine sizes?"
      ],
      "metadata": {
        "id": "rFTeDAxPTySo"
      },
      "execution_count": null,
      "outputs": []
    },
    {
      "cell_type": "markdown",
      "source": [
        "We group the data by engine_size and calculate the average selling price.\n",
        "\n",
        "\n",
        "# Average car price by engine size\n",
        "avg_price_by_engine_size = car_sale_data.groupby('engine_size')['selling_price'].mean()\n",
        "\n",
        "avg_price_by_engine_size\n",
        "A scatter plot can help visualize this relationship."
      ],
      "metadata": {
        "id": "R3s85FpcXJJ7"
      }
    },
    {
      "cell_type": "code",
      "source": [
        "# How do car prices vary based on the customer’s annual income bracket?"
      ],
      "metadata": {
        "id": "N07yxkFZTyPC"
      },
      "execution_count": null,
      "outputs": []
    },
    {
      "cell_type": "markdown",
      "source": [
        "We can group by annual_income to see how car prices vary across different income brackets.\n",
        "\n",
        "\n",
        "# Average car price by annual income bracket\n",
        "avg_price_by_income = car_sale_data.groupby('annual_income')['selling_price'].mean()\n",
        "\n",
        "avg_price_by_income"
      ],
      "metadata": {
        "id": "tVIRGvAqXQxS"
      }
    },
    {
      "cell_type": "code",
      "source": [
        "# What are the top 5 car models with the highest number of sales, and how does their price distribution look?"
      ],
      "metadata": {
        "id": "YMnM32qmTyL9"
      },
      "execution_count": null,
      "outputs": []
    },
    {
      "cell_type": "markdown",
      "source": [
        "We can find the top 5 models by counting occurrences and then visualize their price distributions using boxplots.\n",
        "\n",
        "\n",
        "\n",
        "# Top 5 car models by number of sales\n",
        "top_5_models = car_sale_data['model'].value_counts().head(5).index\n",
        "\n",
        "# Filter data for top 5 models\n",
        "top_5_models_data = car_sale_data[car_sale_data['model'].isin(top_5_models)]\n",
        "\n",
        "# Boxplot for price distribution of top 5 models\n",
        "sns.boxplot(x='model', y='selling_price', data=top_5_models_data)\n",
        "plt.title('Price Distribution of Top 5 Car Models by Sales')\n",
        "plt.show()"
      ],
      "metadata": {
        "id": "bh2YufmlXWJO"
      }
    },
    {
      "cell_type": "code",
      "source": [
        "# How does car price vary with engine size across different car colors, and which colors have the highest price variation?"
      ],
      "metadata": {
        "id": "M48xLbblTyIo"
      },
      "execution_count": null,
      "outputs": []
    },
    {
      "cell_type": "markdown",
      "source": [
        "We group the data by color and engine_size and visualize the price variations using boxplots.\n",
        "\n",
        "\n",
        "# Boxplot for car prices by engine size and color\n",
        "sns.boxplot(x='color', y='selling_price', hue='engine_size', data=car_sale_data)\n",
        "plt.title('Car Price Variation by Engine Size and Color')\n",
        "plt.show()\n",
        "\n",
        "# Price variation by color\n",
        "price_variation_by_color = car_sale_data.groupby('color')['selling_price'].std().sort_values(ascending=False)\n",
        "\n",
        "price_variation_by_color"
      ],
      "metadata": {
        "id": "bLcwGTgXXdV5"
      }
    },
    {
      "cell_type": "code",
      "source": [
        "# Is there any seasonal trend in car sales based on the date of sale?"
      ],
      "metadata": {
        "id": "uPLIFSkNTyFp"
      },
      "execution_count": null,
      "outputs": []
    },
    {
      "cell_type": "markdown",
      "source": [
        "We extract the month of sale and check for trends in sales volume or price.\n",
        "\n",
        "\n",
        "# Extracting month of sale\n",
        "car_sale_data['month_of_sale'] = pd.to_datetime(car_sale_data['date_of_sale']).dt.month\n",
        "\n",
        "# Seasonal trend in car sales\n",
        "monthly_sales = car_sale_data['month_of_sale'].value_counts().sort_index()\n",
        "\n",
        "monthly_sales.plot(kind='bar')\n",
        "plt.title('Seasonal Trend in Car Sales')\n",
        "plt.xlabel('Month')\n",
        "plt.ylabel('Number of Cars Sold')\n",
        "plt.show()"
      ],
      "metadata": {
        "id": "CuiJysDOXisL"
      }
    },
    {
      "cell_type": "code",
      "source": [
        "# How does the car price distribution change when considering different combinations of body style and transmission type?"
      ],
      "metadata": {
        "id": "Xs0zq7NeTyCc"
      },
      "execution_count": null,
      "outputs": []
    },
    {
      "cell_type": "markdown",
      "source": [
        "We use a grouped boxplot to visualize price distribution for combinations of body style and transmission.\n",
        "\n",
        "\n",
        "# Boxplot for car price by body style and transmission type\n",
        "sns.boxplot(x='body_style', y='selling_price', hue='transmission', data=car_sale_data)\n",
        "plt.title('Car Price Distribution by Body Style and Transmission Type')\n",
        "plt.show()"
      ],
      "metadata": {
        "id": "SRpzG9ITXo3Q"
      }
    },
    {
      "cell_type": "code",
      "source": [
        "# What is the correlation between car price, engine size, and annual income of customers, and how do these features interact?"
      ],
      "metadata": {
        "id": "806HOJjNTx3n"
      },
      "execution_count": null,
      "outputs": []
    },
    {
      "cell_type": "markdown",
      "source": [
        "We calculate the correlation matrix and visualize it using a heatmap.\n",
        "\n",
        "\n",
        "# Correlation matrix for car price, engine size, and annual income\n",
        "correlation_matrix = car_sale_data[['selling_price', 'engine_size', 'annual_income']].corr()\n",
        "\n",
        "# Heatmap\n",
        "sns.heatmap(correlation_matrix, annot=True, cmap='coolwarm')\n",
        "plt.title('Correlation Matrix for Price, Engine Size, and Income')\n",
        "plt.show()"
      ],
      "metadata": {
        "id": "3ukNCkZHXvzP"
      }
    },
    {
      "cell_type": "code",
      "source": [
        "# How does the average car price vary across different car models and engine types?"
      ],
      "metadata": {
        "id": "P0aJee4ZTx0x"
      },
      "execution_count": null,
      "outputs": []
    },
    {
      "cell_type": "markdown",
      "source": [
        "We group the data by model and engine_size and calculate the average selling price for each combination.\n",
        "\n",
        "\n",
        "# Average car price by model and engine type\n",
        "avg_price_by_model_engine = car_sale_data.groupby(['model', 'engine_size'])['selling_price'].mean()\n",
        "\n",
        "avg_price_by_model_engine"
      ],
      "metadata": {
        "id": "gFvTGQ_HYC57"
      }
    },
    {
      "cell_type": "code",
      "source": [
        "#                                                      EDA - 3 Amazon Sales Data"
      ],
      "metadata": {
        "id": "-DqD1jfvYPpK"
      },
      "execution_count": null,
      "outputs": []
    },
    {
      "cell_type": "code",
      "source": [
        "# What is the average rating for each product category?"
      ],
      "metadata": {
        "id": "HRHch5OyYfau"
      },
      "execution_count": null,
      "outputs": []
    },
    {
      "cell_type": "markdown",
      "source": [
        "To calculate the average rating for each category, we can group the data by category and take the mean of the rating column.\n",
        "\n",
        "\n",
        "# Average rating by product category\n",
        "avg_rating_by_category = amazon_data.groupby('category')['rating'].mean()\n",
        "\n",
        "avg_rating_by_category"
      ],
      "metadata": {
        "id": "X9L4__3bZlGM"
      }
    },
    {
      "cell_type": "code",
      "source": [
        "# What are the top rating_count products by category?"
      ],
      "metadata": {
        "id": "Q-q_JmR5YmL5"
      },
      "execution_count": null,
      "outputs": []
    },
    {
      "cell_type": "markdown",
      "source": [
        "We can sort the data by rating_count and group by category to find the top products with the highest number of ratings.\n",
        "\n",
        "\n",
        "# Top products by rating_count in each category\n",
        "top_rating_count_by_category = amazon_data.groupby('category').apply(lambda x: x.nlargest(1, 'rating_count'))\n",
        "\n",
        "top_rating_count_by_category[['product_name', 'rating_count']]"
      ],
      "metadata": {
        "id": "f-mB8_MDZl8d"
      }
    },
    {
      "cell_type": "code",
      "source": [
        "# What is the distribution of discounted prices vs. actual prices?"
      ],
      "metadata": {
        "id": "nLnJ3Yx9YmHB"
      },
      "execution_count": null,
      "outputs": []
    },
    {
      "cell_type": "markdown",
      "source": [
        "We can plot the distribution of discounted_price and actual_price to visualize their difference.\n",
        "\n",
        "\n",
        "import seaborn as sns\n",
        "import matplotlib.pyplot as plt\n",
        "\n",
        "# Distribution of discounted vs. actual prices\n",
        "plt.figure(figsize=(10,6))\n",
        "sns.histplot(amazon_data['discounted_price'], label='Discounted Price', color='blue', kde=True)\n",
        "sns.histplot(amazon_data['actual_price'], label='Actual Price', color='red', kde=True)\n",
        "plt.legend()\n",
        "plt.title('Distribution of Discounted Prices vs. Actual Prices')\n",
        "plt.xlabel('Price')\n",
        "plt.ylabel('Frequency')\n",
        "plt.show()"
      ],
      "metadata": {
        "id": "_Zy_h0K3Zm4p"
      }
    },
    {
      "cell_type": "code",
      "source": [
        "# How does the average discount percentage vary across categories?"
      ],
      "metadata": {
        "id": "TwpfHkz8YmCG"
      },
      "execution_count": null,
      "outputs": []
    },
    {
      "cell_type": "markdown",
      "source": [
        "To find the discount percentage, we calculate it as:\n",
        "\n",
        "discount percentage\n",
        "=\n",
        "(\n",
        "actual_price\n",
        "−\n",
        "discounted_price\n",
        ")\n",
        "actual_price\n",
        "×\n",
        "100\n",
        "discount percentage=\n",
        "actual_price\n",
        "(actual_price−discounted_price)\n",
        "​\n",
        " ×100\n",
        "Then, we can group by category to find the average discount percentage for each category.\n",
        "\n",
        "\n",
        "# Calculate discount percentage\n",
        "amazon_data['discount_percentage'] = ((amazon_data['actual_price'] - amazon_data['discounted_price']) / amazon_data['actual_price']) * 100\n",
        "\n",
        "# Average discount percentage by category\n",
        "avg_discount_by_category = amazon_data.groupby('category')['discount_percentage'].mean()\n",
        "\n",
        "avg_discount_by_category"
      ],
      "metadata": {
        "id": "Pm69WG42ZoIC"
      }
    },
    {
      "cell_type": "code",
      "source": [
        "# What are the most popular product names?"
      ],
      "metadata": {
        "id": "fEQyVVM-Yl9u"
      },
      "execution_count": null,
      "outputs": []
    },
    {
      "cell_type": "markdown",
      "source": [
        "We can find the most popular products based on the rating_count or sales data.\n",
        "\n",
        "\n",
        "# Most popular products based on rating count\n",
        "most_popular_products = amazon_data.nlargest(5, 'rating_count')[['product_name', 'rating_count']]\n",
        "\n",
        "most_popular_products"
      ],
      "metadata": {
        "id": "R9qhv92eZoyD"
      }
    },
    {
      "cell_type": "code",
      "source": [
        "# What are the most popular product keywords?"
      ],
      "metadata": {
        "id": "I1cyJYGaYl5V"
      },
      "execution_count": null,
      "outputs": []
    },
    {
      "cell_type": "markdown",
      "source": [
        "Analyze product keywords based on their frequency in the keywords column. This requires tokenizing and counting word occurrences.\n",
        "\n",
        "python\n",
        "Copy\n",
        "Edit\n",
        "from collections import Counter\n",
        "\n",
        "# Extract and count keywords\n",
        "keywords_series = amazon_data['keywords'].dropna().str.split(',')\n",
        "all_keywords = [keyword.strip() for sublist in keywords_series for keyword in sublist]\n",
        "keyword_counts = Counter(all_keywords)\n",
        "\n",
        "# Most popular keywords\n",
        "most_popular_keywords = keyword_counts.most_common(5)\n",
        "\n",
        "most_popular_keywords"
      ],
      "metadata": {
        "id": "Qp6LIVX0Zpj0"
      }
    },
    {
      "cell_type": "code",
      "source": [
        "# What are the most popular product reviews?"
      ],
      "metadata": {
        "id": "ZBI5cQEMYl0p"
      },
      "execution_count": null,
      "outputs": []
    },
    {
      "cell_type": "markdown",
      "source": [
        "\n",
        "\n",
        "To find the most popular reviews, we can use the rating_count as a proxy for popularity.\n",
        "\n",
        "\n",
        "# Most popular product reviews based on rating_count\n",
        "most_popular_reviews = amazon_data.nlargest(5, 'rating_count')[['product_name', 'review_text']]\n",
        "\n",
        "most_popular_reviews\n"
      ],
      "metadata": {
        "id": "C-uHq54PZqRD"
      }
    },
    {
      "cell_type": "code",
      "source": [
        "# What is the correlation between discounted_price and rating?"
      ],
      "metadata": {
        "id": "HmuWRL7HYkyC"
      },
      "execution_count": null,
      "outputs": []
    },
    {
      "cell_type": "markdown",
      "source": [
        "We can calculate the correlation between discounted_price and rating using the corr() function.\n",
        "\n",
        "\n",
        "# Correlation between discounted_price and rating\n",
        "correlation_discount_price_rating = amazon_data[['discounted_price', 'rating']].corr()\n",
        "\n",
        "correlation_discount_price_rating"
      ],
      "metadata": {
        "id": "iI4zal4fZrSF"
      }
    },
    {
      "cell_type": "code",
      "source": [
        "# What are the Top 5 categories based on the highest ratings?"
      ],
      "metadata": {
        "id": "9yu-sMK5ZcGC"
      },
      "execution_count": null,
      "outputs": []
    },
    {
      "cell_type": "markdown",
      "source": [
        "To find the top 5 categories, we can sort the average ratings by category.\n",
        "\n",
        "\n",
        "# Top 5 categories by highest average rating\n",
        "top_5_categories_by_rating = avg_rating_by_category.nlargest(5)\n",
        "\n",
        "top_5_categories_by_rating\n",
        "This will list the product categories that have the highest customer ratings on average."
      ],
      "metadata": {
        "id": "F0Ggqv0FZsEx"
      }
    },
    {
      "cell_type": "code",
      "source": [
        "# Identify any potential areas for improvement or optimization based on the data analysis?"
      ],
      "metadata": {
        "id": "hvsnwtVdZbxj"
      },
      "execution_count": null,
      "outputs": []
    },
    {
      "cell_type": "markdown",
      "source": [
        "Here are potential areas for optimization:\n",
        "\n",
        "Categories with Low Ratings: Identify categories with lower average ratings and focus on improving the quality or description of products in these categories.\n",
        "Price Optimization: Analyze the pricing strategy by comparing the distribution of discounted_price and actual_price. Categories or products with lower discounts could benefit from promotional strategies.\n",
        "Customer Engagement: Focus on products with fewer ratings and reviews to increase customer interaction. Implement strategies to encourage reviews, such as discounts for feedback.\n",
        "High Price Variation in Popular Categories: For categories with a wide range of prices, a better segmentation of premium vs budget products could improve targeting.\n",
        "Visualization for Optimization Areas\n",
        "You can create a bar chart to identify low-rating categories:\n",
        "\n",
        "\n",
        "# Categories with lowest ratings (for potential improvement)\n",
        "\n",
        "lowest_rated_categories = avg_rating_by_category.nsmallest(5)\n",
        "\n",
        "lowest_rated_categories.plot(kind='bar')\n",
        "plt.title('Lowest Rated Product Categories')\n",
        "plt.xlabel('Category')\n",
        "plt.ylabel('Average Rating')\n",
        "plt.show()"
      ],
      "metadata": {
        "id": "q8Sef8evZssl"
      }
    },
    {
      "cell_type": "code",
      "source": [
        "#                                                                         EDA - 4"
      ],
      "metadata": {
        "id": "jBtfx_HncZ8z"
      },
      "execution_count": null,
      "outputs": []
    },
    {
      "cell_type": "code",
      "source": [
        "# Read the dataframe, check null value if present then do the needful, check duplicate row , if present then do the needful?"
      ],
      "metadata": {
        "id": "teyduZHQdQHT"
      },
      "execution_count": null,
      "outputs": []
    },
    {
      "cell_type": "markdown",
      "source": [
        "import pandas as pd\n",
        "\n",
        "# Read the dataset\n",
        "spotify_data = pd.read_csv('spotify.csv')\n",
        "\n",
        "# Check for null values\n",
        "null_values = spotify_data.isnull().sum()\n",
        "\n",
        "# Handle missing values if any (e.g., fill with mean/median or drop rows)\n",
        "spotify_data_cleaned = spotify_data.dropna()\n",
        "\n",
        "# Check for duplicate rows\n",
        "duplicate_rows = spotify_data_cleaned.duplicated().sum()\n",
        "\n",
        "# Drop duplicate rows if any\n",
        "spotify_data_cleaned = spotify_data_cleaned.drop_duplicates()\n",
        "\n",
        "null_values, duplicate_rows\n",
        "Null Values: We first check for null values and either fill them with an appropriate value or drop the rows if necessary.\n",
        "Duplicate Rows: Any duplicate rows are removed from the dataset."
      ],
      "metadata": {
        "id": "heRA3Mu2e2_d"
      }
    },
    {
      "cell_type": "code",
      "source": [
        "# What is the distribution of popularity among the tracks in the dataset? Visualize it using a histogram?"
      ],
      "metadata": {
        "id": "TilguZsCdQCF"
      },
      "execution_count": null,
      "outputs": []
    },
    {
      "cell_type": "markdown",
      "source": [
        "import seaborn as sns\n",
        "import matplotlib.pyplot as plt\n",
        "\n",
        "# Distribution of track popularity\n",
        "plt.figure(figsize=(10,6))\n",
        "sns.histplot(spotify_data_cleaned['popularity'], kde=True, color='green')\n",
        "plt.title('Distribution of Track Popularity')\n",
        "plt.xlabel('Popularity')\n",
        "plt.ylabel('Frequency')\n",
        "plt.show()\n"
      ],
      "metadata": {
        "id": "sMCp7e_Oe359"
      }
    },
    {
      "cell_type": "code",
      "source": [
        "# Is there any relationship between the popularity and the duration of tracks? Explore this using a scatter plot?"
      ],
      "metadata": {
        "id": "WjYx1-LkdP8r"
      },
      "execution_count": null,
      "outputs": []
    },
    {
      "cell_type": "markdown",
      "source": [
        "# Scatter plot of popularity vs. duration\n",
        "plt.figure(figsize=(10,6))\n",
        "sns.scatterplot(x='duration_ms', y='popularity', data=spotify_data_cleaned, color='blue')\n",
        "plt.title('Popularity vs. Duration of Tracks')\n",
        "plt.xlabel('Duration (ms)')\n",
        "plt.ylabel('Popularity')\n",
        "plt.show()\n"
      ],
      "metadata": {
        "id": "8y4m5BBRe4jl"
      }
    },
    {
      "cell_type": "code",
      "source": [
        "# Which artist has the highest number of tracks in the dataset? Display the count of tracks for each artist using a countplot?"
      ],
      "metadata": {
        "id": "QFr4VgyadP3o"
      },
      "execution_count": null,
      "outputs": []
    },
    {
      "cell_type": "markdown",
      "source": [
        "# Count the number of tracks for each artist\n",
        "artist_track_count = spotify_data_cleaned['artist_name'].value_counts()\n",
        "\n",
        "# Plot the top artists\n",
        "plt.figure(figsize=(10,6))\n",
        "sns.countplot(y='artist_name', data=spotify_data_cleaned, order=spotify_data_cleaned['artist_name'].value_counts().head(10).index)\n",
        "plt.title('Top Artists by Track Count')\n",
        "plt.xlabel('Number of Tracks')\n",
        "plt.ylabel('Artist')\n",
        "plt.show()\n"
      ],
      "metadata": {
        "id": "BIRPVqy5e5cR"
      }
    },
    {
      "cell_type": "code",
      "source": [
        "# What are the top 5 least popular tracks in the dataset? Provide the artist name and track name for each?"
      ],
      "metadata": {
        "id": "UkGbTtwndPx1"
      },
      "execution_count": null,
      "outputs": []
    },
    {
      "cell_type": "markdown",
      "source": [
        "# Top 5 least popular tracks\n",
        "least_popular_tracks = spotify_data_cleaned.nsmallest(5, 'popularity')[['artist_name', 'track_name', 'popularity']]\n",
        "\n",
        "least_popular_tracks\n"
      ],
      "metadata": {
        "id": "fyBEQX8Ze6Iv"
      }
    },
    {
      "cell_type": "code",
      "source": [
        "# Among the top 5 most popular artists, which artist has the highest popularity on average? Calculate and display the average popularity for each artist."
      ],
      "metadata": {
        "id": "vE31QCJadPrW"
      },
      "execution_count": null,
      "outputs": []
    },
    {
      "cell_type": "markdown",
      "source": [
        "# Average popularity for each artist\n",
        "artist_avg_popularity = spotify_data_cleaned.groupby('artist_name')['popularity'].mean().nlargest(5)\n",
        "\n",
        "artist_avg_popularity\n"
      ],
      "metadata": {
        "id": "N57SMGuJe66z"
      }
    },
    {
      "cell_type": "code",
      "source": [
        "# For the top 5 most popular artists, what are their most popular tracks? List the track name for each artis."
      ],
      "metadata": {
        "id": "olLyomXhdPmC"
      },
      "execution_count": null,
      "outputs": []
    },
    {
      "cell_type": "markdown",
      "source": [
        "# Get the most popular track for each of the top 5 artists\n",
        "top_artists = artist_avg_popularity.index\n",
        "top_artist_tracks = spotify_data_cleaned[spotify_data_cleaned['artist_name'].isin(top_artists)].sort_values(by=['artist_name', 'popularity'], ascending=[True, False])\n",
        "\n",
        "# List of top tracks\n",
        "top_tracks = top_artist_tracks.groupby('artist_name').first()[['track_name', 'popularity']]\n",
        "\n",
        "top_tracks\n"
      ],
      "metadata": {
        "id": "aDUuk6_6e8Pf"
      }
    },
    {
      "cell_type": "code",
      "source": [
        "# Visualize relationships between multiple numerical variables simultaneously using a pair plot."
      ],
      "metadata": {
        "id": "2KnbEbybdPg5"
      },
      "execution_count": null,
      "outputs": []
    },
    {
      "cell_type": "markdown",
      "source": [
        "# Pair plot for numerical variables\n",
        "sns.pairplot(spotify_data_cleaned[['popularity', 'duration_ms', 'danceability', 'energy']])\n",
        "plt.show()\n"
      ],
      "metadata": {
        "id": "uqdxPruhe87J"
      }
    },
    {
      "cell_type": "code",
      "source": [
        "# Does the duration of tracks vary significantly across different artists? Explore this visually using a box plot or violin plot."
      ],
      "metadata": {
        "id": "PtBxzTXDdPbR"
      },
      "execution_count": null,
      "outputs": []
    },
    {
      "cell_type": "markdown",
      "source": [
        "# Box plot for track duration across different artists\n",
        "plt.figure(figsize=(10,6))\n",
        "sns.boxplot(x='artist_name', y='duration_ms', data=spotify_data_cleaned, order=spotify_data_cleaned['artist_name'].value_counts().head(5).index)\n",
        "plt.title('Track Duration by Artist')\n",
        "plt.xticks(rotation=90)\n",
        "plt.show()\n"
      ],
      "metadata": {
        "id": "8N-_ZJSve-Sr"
      }
    },
    {
      "cell_type": "code",
      "source": [
        "# How does the distribution of track popularity vary for different artists? Visualize this using a swarm plot or a violin plot."
      ],
      "metadata": {
        "id": "aUY3ecN9dPKQ"
      },
      "execution_count": null,
      "outputs": []
    },
    {
      "cell_type": "markdown",
      "source": [
        "A violin plot will show the distribution of popularity for different artists, especially the top artists with the highest number of tracks.\n",
        "\n",
        "\n",
        "# Violin plot for track popularity across artists\n",
        "plt.figure(figsize=(10,6))\n",
        "sns.violinplot(x='artist_name', y='popularity', data=spotify_data_cleaned, order=spotify_data_cleaned['artist_name'].value_counts().head(5).index)\n",
        "plt.title('Track Popularity by Artist')\n",
        "plt.xticks(rotation=90)\n",
        "plt.show()\n",
        "This will show how track popularity varies across different artists."
      ],
      "metadata": {
        "id": "ESANG7pJgS3r"
      }
    }
  ]
}